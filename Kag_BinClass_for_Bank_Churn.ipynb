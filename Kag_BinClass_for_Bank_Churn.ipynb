{
  "nbformat": 4,
  "nbformat_minor": 0,
  "metadata": {
    "colab": {
      "private_outputs": true,
      "provenance": [],
      "authorship_tag": "ABX9TyMPJfTTg4ijSpexlCLJsvCr",
      "include_colab_link": true
    },
    "kernelspec": {
      "name": "python3",
      "display_name": "Python 3"
    },
    "language_info": {
      "name": "python"
    }
  },
  "cells": [
    {
      "cell_type": "markdown",
      "metadata": {
        "id": "view-in-github",
        "colab_type": "text"
      },
      "source": [
        "<a href=\"https://colab.research.google.com/github/devyulbae/Kaggle/blob/main/Kag_BinClass_for_Bank_Churn.ipynb\" target=\"_parent\"><img src=\"https://colab.research.google.com/assets/colab-badge.svg\" alt=\"Open In Colab\"/></a>"
      ]
    },
    {
      "cell_type": "code",
      "source": [
        "# readme\n",
        "# for Kaggle competition\n",
        "# name: Binary Classification with a Bank Churn Dataset\n",
        "# period: 02.Jan.2024 ~ 01.Feb.2024\n",
        "#\n",
        "#\n",
        "#"
      ],
      "metadata": {
        "id": "9uTYr89CnL_I"
      },
      "execution_count": null,
      "outputs": []
    },
    {
      "cell_type": "code",
      "execution_count": null,
      "metadata": {
        "id": "qwPdr4JblKjU"
      },
      "outputs": [],
      "source": [
        "# Import Libraries\n",
        "import pandas as pd\n",
        "import numpy as np\n",
        "import matplotlib.pyplot as plt\n",
        "import seaborn as sns\n",
        "import os\n",
        "%matplotlib inline"
      ]
    },
    {
      "cell_type": "markdown",
      "source": [
        "## Explore Dataset"
      ],
      "metadata": {
        "id": "JtXlqp4iqkq0"
      }
    },
    {
      "cell_type": "code",
      "source": [
        "# colab\n",
        "use_colab = True\n",
        "assert use_colab in [True, False]\n",
        "\n",
        "# google drive\n",
        "from google.colab import drive\n",
        "drive.mount(\"/content/drive/\")"
      ],
      "metadata": {
        "id": "t-dHgMh7nGod"
      },
      "execution_count": null,
      "outputs": []
    },
    {
      "cell_type": "code",
      "source": [
        "# the save point\n",
        "if use_colab:\n",
        "    checkpoint_dir ='./drive/MyDrive/train_ckpt/bankChurn/exp1'\n",
        "    if not os.path.isdir(checkpoint_dir):\n",
        "        os.makedirs(checkpoint_dir)\n",
        "else:\n",
        "    checkpoint_dir = 'bankChurn/exp1'"
      ],
      "metadata": {
        "id": "JhdXZT98WP7x"
      },
      "execution_count": null,
      "outputs": []
    },
    {
      "cell_type": "code",
      "source": [
        "train = pd.read_csv(\"/content/drive/MyDrive/datas/bank_churn_train.csv\")\n",
        "test = pd.read_csv(\"/content/drive/MyDrive/datas/bank_churn_test.csv\")\n",
        "train.head(5)"
      ],
      "metadata": {
        "id": "EvROavIfzETP"
      },
      "execution_count": null,
      "outputs": []
    },
    {
      "cell_type": "markdown",
      "source": [
        "### From the given dataset we have been given following columns:\n",
        "  ID: A serial number provided to each row\n",
        "\n",
        "  Customer ID: A unique identifier for each customer\n",
        "\n",
        "  Surname: The customer's surname or last name\n",
        "\n",
        "  Credit Score: A numerical value representing the customer's credit score\n",
        "\n",
        "  Geography: The country where the customer resides (France, Spain or Germany)\n",
        "\n",
        "  Gender: The customer's gender (Male or Female)\n",
        "\n",
        "  Age: The customer's age.\n",
        "\n",
        "  Tenure: The number of years the customer has been with the bank\n",
        "\n",
        "  Balance: The customer's account balance\n",
        "\n",
        "  NumOfProducts: The number of bank products the customer uses (e.g., savings account, credit card)\n",
        "\n",
        "  HasCrCard: Whether the customer has a credit card (1 = yes, 0 = no)\n",
        "\n",
        "  IsActiveMember: Whether the customer is an active member (1 = yes, 0 = no)\n",
        "\n",
        "  EstimatedSalary: The estimated salary of the customer\n",
        "\n",
        "  Exited: Whether the customer has churned (1 = yes, 0 = no)"
      ],
      "metadata": {
        "id": "41B7XSfyp7Z7"
      }
    },
    {
      "cell_type": "code",
      "source": [
        "print(\"Shape: \", train.shape)\n",
        "print(train.dtypes)"
      ],
      "metadata": {
        "id": "nxgNSuA-q3_W"
      },
      "execution_count": null,
      "outputs": []
    },
    {
      "cell_type": "code",
      "source": [
        "print(\"Shape: \", test.shape)\n",
        "print(test.dtypes)"
      ],
      "metadata": {
        "id": "Y29mc5GPrAKp"
      },
      "execution_count": null,
      "outputs": []
    },
    {
      "cell_type": "markdown",
      "source": [
        "## Dealing With Categorical Data"
      ],
      "metadata": {
        "id": "v6jB6c5-nULD"
      }
    },
    {
      "cell_type": "code",
      "source": [
        "train['Age'] = train['Age'].astype('int64')\n",
        "train['HasCrCard'] = train['HasCrCard'].astype('int64')\n",
        "\n",
        "test['Age'] = test['Age'].astype('int64')\n",
        "test['HasCrCard'] = test['HasCrCard'].astype('int64')"
      ],
      "metadata": {
        "id": "l0ZtELpcqzl0"
      },
      "execution_count": null,
      "outputs": []
    },
    {
      "cell_type": "markdown",
      "source": [
        "## Data Visualization"
      ],
      "metadata": {
        "id": "efM_uxHvqfTT"
      }
    },
    {
      "cell_type": "code",
      "source": [
        "# use sweetviz\n",
        "!pip install sweetviz"
      ],
      "metadata": {
        "id": "qnoDJQ8Vqwo-"
      },
      "execution_count": null,
      "outputs": []
    },
    {
      "cell_type": "code",
      "source": [
        "import sweetviz as sv\n",
        "sweetviz_report = sv.analyze(train)\n",
        "sweetviz_report.show_html('sweetviz_report.html')"
      ],
      "metadata": {
        "id": "bxcfEjWV1gYC"
      },
      "execution_count": null,
      "outputs": []
    },
    {
      "cell_type": "code",
      "source": [
        "zeroval=(train['Balance']==0).sum()\n",
        "print(\"zeroval =\",zeroval)\n",
        "nonzeroval=(train['Balance']!=0).sum()\n",
        "print(\"nonzeroval\",nonzeroval)"
      ],
      "metadata": {
        "id": "kHb2-WmA7wuY"
      },
      "execution_count": null,
      "outputs": []
    },
    {
      "cell_type": "code",
      "source": [
        "# Handling the Gender Column\n",
        "train['Gender'].nunique()"
      ],
      "metadata": {
        "id": "6z5j-SjS8Rsy"
      },
      "execution_count": null,
      "outputs": []
    },
    {
      "cell_type": "code",
      "source": [
        "train['Gender'].head(3)"
      ],
      "metadata": {
        "id": "IrsFs4F28otk"
      },
      "execution_count": null,
      "outputs": []
    },
    {
      "cell_type": "code",
      "source": [
        "from sklearn.preprocessing import LabelEncoder\n",
        "label_encoder = LabelEncoder()\n",
        "train['Gender'] = label_encoder.fit_transform(train['Gender'])   # female -> 0, male -> 1\n",
        "\n",
        "test['Gender'] = label_encoder.fit_transform(test['Gender'])   # female -> 0, male -> 1"
      ],
      "metadata": {
        "id": "0Iup8Sae8d9O"
      },
      "execution_count": null,
      "outputs": []
    },
    {
      "cell_type": "code",
      "source": [
        "train['Gender'].head(3)"
      ],
      "metadata": {
        "id": "whv1r2-q8zAk"
      },
      "execution_count": null,
      "outputs": []
    },
    {
      "cell_type": "code",
      "source": [
        "train.dtypes"
      ],
      "metadata": {
        "id": "xjBHjMZc8z9u"
      },
      "execution_count": null,
      "outputs": []
    },
    {
      "cell_type": "code",
      "source": [
        "train.isnull().sum()"
      ],
      "metadata": {
        "id": "0aslrK3c88Qo"
      },
      "execution_count": null,
      "outputs": []
    },
    {
      "cell_type": "code",
      "source": [
        "# Geography -> obj to int,\n",
        "train['Geography'].value_counts()"
      ],
      "metadata": {
        "id": "NIRNLqxq9DET"
      },
      "execution_count": null,
      "outputs": []
    },
    {
      "cell_type": "code",
      "source": [
        "label_encoder = LabelEncoder()\n",
        "train['Geography'] = label_encoder.fit_transform(train['Geography'])\n",
        "test['Geography'] = label_encoder.fit_transform(test['Geography'])\n",
        "\n",
        "# France : 0 / Germany : 1 / Spain : 2\n",
        "sns.countplot(data=train, x='Geography')\n",
        "plt.show()"
      ],
      "metadata": {
        "id": "VsscjpNq9Fuh"
      },
      "execution_count": null,
      "outputs": []
    },
    {
      "cell_type": "code",
      "source": [
        "train['IsActiveMember'] = train['IsActiveMember'].astype(int)\n",
        "train['EstimatedSalary'] = train['EstimatedSalary'].round().astype(int)\n",
        "train['Balance'] = train['Balance'].round().astype(int)\n",
        "\n",
        "train = train.drop('Surname', axis=1)\n",
        "train = train.drop('id', axis=1)\n",
        "train = train.drop('CustomerId', axis=1)"
      ],
      "metadata": {
        "id": "7g_71KXN90lj"
      },
      "execution_count": null,
      "outputs": []
    },
    {
      "cell_type": "code",
      "source": [
        "test['IsActiveMember'] = test['IsActiveMember'].astype(int)\n",
        "test['EstimatedSalary'] = test['EstimatedSalary'].round().astype(int)\n",
        "test['Balance'] = test['Balance'].round().astype(int)\n",
        "\n",
        "test = test.drop('Surname', axis=1)\n",
        "test = test.drop('CustomerId', axis=1)"
      ],
      "metadata": {
        "id": "ZP58p7C_Uyzm"
      },
      "execution_count": null,
      "outputs": []
    },
    {
      "cell_type": "code",
      "source": [
        "train.dtypes"
      ],
      "metadata": {
        "id": "Fmsv2HHW_6La"
      },
      "execution_count": null,
      "outputs": []
    },
    {
      "cell_type": "code",
      "source": [
        "changed_rp = sv.analyze(train)\n",
        "changed_rp.show_html('sweetviz_report.html')"
      ],
      "metadata": {
        "id": "8u2aK7V2_yXi"
      },
      "execution_count": null,
      "outputs": []
    },
    {
      "cell_type": "code",
      "source": [
        "train.head(5)"
      ],
      "metadata": {
        "id": "SK5nuqmIA-hU"
      },
      "execution_count": null,
      "outputs": []
    },
    {
      "cell_type": "code",
      "source": [
        "from sklearn.preprocessing import MinMaxScaler\n",
        "\n",
        "scaler = MinMaxScaler()\n",
        "train['CreditScore'] = scaler.fit_transform(train[['CreditScore']])\n",
        "train['Balance'] = scaler.fit_transform(train[['Balance']])\n",
        "train['EstimatedSalary'] = scaler.fit_transform(train[['EstimatedSalary']])\n",
        "\n",
        "test['CreditScore'] = scaler.fit_transform(test[['CreditScore']])\n",
        "test['Balance'] = scaler.fit_transform(test[['Balance']])\n",
        "test['EstimatedSalary'] = scaler.fit_transform(test[['EstimatedSalary']])"
      ],
      "metadata": {
        "id": "4pVwWRN5BPo1"
      },
      "execution_count": null,
      "outputs": []
    },
    {
      "cell_type": "code",
      "source": [
        "train.head(5)"
      ],
      "metadata": {
        "id": "kKSMWw8wBcjV"
      },
      "execution_count": null,
      "outputs": []
    },
    {
      "cell_type": "markdown",
      "source": [
        "## Building Our Models"
      ],
      "metadata": {
        "id": "gkD-qWf-qtSg"
      }
    },
    {
      "cell_type": "code",
      "source": [
        "import tensorflow as tf\n",
        "from tensorflow import keras\n",
        "from tensorflow.keras import layers"
      ],
      "metadata": {
        "id": "30VXDTd4COpS"
      },
      "execution_count": null,
      "outputs": []
    },
    {
      "cell_type": "code",
      "source": [
        "X = train.drop('Exited',axis = 1)\n",
        "y = train['Exited']\n",
        "\n",
        "from sklearn.model_selection import train_test_split\n",
        "X_train, X_test, y_train, y_test = train_test_split(X, y, test_size=0.1, random_state=42)\n",
        "\n",
        "print(X_train.shape, y_train.shape)\n",
        "print(X_test.shape, y_test.shape)"
      ],
      "metadata": {
        "id": "FzS3dngT_MM2"
      },
      "execution_count": null,
      "outputs": []
    },
    {
      "cell_type": "code",
      "source": [
        "batch_size = 16\n",
        "\n",
        "train_dataset = tf.data.Dataset.from_tensor_slices((X_train, y_train))\n",
        "train_dataset = train_dataset.shuffle(10000).repeat().batch(batch_size=batch_size, drop_remainder= True)\n",
        "\n",
        "test_dataset = tf.data.Dataset.from_tensor_slices((X_test, y_test))\n",
        "test_dataset = test_dataset.shuffle(10000).repeat().batch(batch_size=batch_size, drop_remainder= True)\n",
        "\n"
      ],
      "metadata": {
        "id": "x2bw0_Z5B-et"
      },
      "execution_count": null,
      "outputs": []
    },
    {
      "cell_type": "code",
      "source": [
        "def mish(x):\n",
        "    return x * keras.backend.tanh(keras.backend.softplus(x))\n",
        "\n",
        "model = keras.Sequential()\n",
        "\n",
        "model.add(layers.Dense(10))\n",
        "model.add(layers.Activation(mish))\n",
        "\n",
        "model.add(layers.Dense(16))\n",
        "model.add(layers.Activation(mish))\n",
        "\n",
        "model.add(layers.Dense(32))\n",
        "model.add(layers.Activation(mish))\n",
        "\n",
        "model.add(layers.Dense(64))\n",
        "model.add(layers.Activation(mish))\n",
        "\n",
        "model.add(layers.Dense(64))\n",
        "model.add(layers.Activation(mish))\n",
        "\n",
        "model.add(layers.Dense(128))\n",
        "model.add(layers.Activation(mish))\n",
        "\n",
        "model.add(layers.Dense(128))\n",
        "model.add(layers.Activation(mish))\n",
        "\n",
        "\n",
        "model.add(layers.Dense(1))"
      ],
      "metadata": {
        "id": "0QTRQQXzEkhF"
      },
      "execution_count": null,
      "outputs": []
    },
    {
      "cell_type": "code",
      "source": [
        "model.compile(optimizer=tf.keras.optimizers.Adam(1e-4),\n",
        "              loss=tf.keras.losses.BinaryCrossentropy(from_logits=True),\n",
        "              metrics=['accuracy'])"
      ],
      "metadata": {
        "id": "Maq-W1_SGVU0"
      },
      "execution_count": null,
      "outputs": []
    },
    {
      "cell_type": "code",
      "source": [
        "cp_callback = tf.keras.callbacks.ModelCheckpoint(checkpoint_dir,\n",
        "                                                 save_weights_only=True,\n",
        "                                                 monitor='val_loss',\n",
        "                                                 mode='auto',\n",
        "                                                 save_best_only=True,\n",
        "                                                 verbose=1)\n",
        "\n",
        "early_stop = tf.keras.callbacks.EarlyStopping(patience=3,\n",
        "                                                     monitor='val_loss',\n",
        "                                                     restore_best_weights=True,\n",
        "                                                     verbose=1)"
      ],
      "metadata": {
        "id": "ArIexDFwRnlc"
      },
      "execution_count": null,
      "outputs": []
    },
    {
      "cell_type": "code",
      "source": [
        "max_epochs = 15\n",
        "\n",
        "history = model.fit(train_dataset, epochs= max_epochs,\n",
        "                    steps_per_epoch= len(train) // batch_size,\n",
        "                    validation_data = test_dataset,\n",
        "                    validation_steps = len(test) // batch_size,\n",
        "                    callbacks= [cp_callback, early_stop])"
      ],
      "metadata": {
        "id": "JYzDZUB4Fe3I"
      },
      "execution_count": null,
      "outputs": []
    },
    {
      "cell_type": "code",
      "source": [
        "# Submission\n",
        "eval_result = model.evaluate(X_test, y_test)\n",
        "print(\"Test Accuracy:\", eval_result[1])"
      ],
      "metadata": {
        "id": "sr0YhHTvnYvI"
      },
      "execution_count": null,
      "outputs": []
    },
    {
      "cell_type": "code",
      "source": [
        "import matplotlib.pyplot as plt\n",
        "\n",
        "\n",
        "# Plot the training loss and validation loss\n",
        "plt.plot(history.history['accuracy'], label='training accuracy')\n",
        "plt.plot(history.history['val_accuracy'], label='Validation accuracy')\n",
        "plt.xlabel('Epoch')\n",
        "plt.ylabel('Loss')\n",
        "plt.legend()\n",
        "plt.show()"
      ],
      "metadata": {
        "id": "KV36GaipK8oH"
      },
      "execution_count": null,
      "outputs": []
    },
    {
      "cell_type": "markdown",
      "source": [
        "## Submission"
      ],
      "metadata": {
        "id": "Zn2uotz8_MnH"
      }
    },
    {
      "cell_type": "code",
      "source": [
        "ids = test['id']\n",
        "test.drop(['id'], axis = 1, inplace = True)"
      ],
      "metadata": {
        "id": "90bL14a6R6TN"
      },
      "execution_count": null,
      "outputs": []
    },
    {
      "cell_type": "code",
      "source": [
        "test_predictions = model.predict(test)"
      ],
      "metadata": {
        "id": "CF8nkGW7VYZ6"
      },
      "execution_count": null,
      "outputs": []
    },
    {
      "cell_type": "code",
      "source": [
        "submission = pd.DataFrame()\n",
        "submission['id'] = ids\n",
        "submission['Exited'] = test_predictions"
      ],
      "metadata": {
        "id": "yWY8qqqfVSbZ"
      },
      "execution_count": null,
      "outputs": []
    },
    {
      "cell_type": "code",
      "source": [
        "submission.head(5)"
      ],
      "metadata": {
        "id": "Sp2D3QLwXp1H"
      },
      "execution_count": null,
      "outputs": []
    },
    {
      "cell_type": "code",
      "source": [
        "submission.to_csv('submission.csv', index = False)"
      ],
      "metadata": {
        "id": "UMafek4eVOHo"
      },
      "execution_count": null,
      "outputs": []
    }
  ]
}