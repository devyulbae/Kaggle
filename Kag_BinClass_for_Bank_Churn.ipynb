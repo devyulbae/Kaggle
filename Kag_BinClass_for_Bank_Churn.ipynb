{
  "nbformat": 4,
  "nbformat_minor": 0,
  "metadata": {
    "colab": {
      "private_outputs": true,
      "provenance": [],
      "authorship_tag": "ABX9TyONxqWRqfERYPnQYov2CtPM",
      "include_colab_link": true
    },
    "kernelspec": {
      "name": "python3",
      "display_name": "Python 3"
    },
    "language_info": {
      "name": "python"
    }
  },
  "cells": [
    {
      "cell_type": "markdown",
      "metadata": {
        "id": "view-in-github",
        "colab_type": "text"
      },
      "source": [
        "<a href=\"https://colab.research.google.com/github/devyulbae/Kaggle/blob/main/Kag_BinClass_for_Bank_Churn.ipynb\" target=\"_parent\"><img src=\"https://colab.research.google.com/assets/colab-badge.svg\" alt=\"Open In Colab\"/></a>"
      ]
    },
    {
      "cell_type": "code",
      "source": [
        "# readme\n",
        "# for Kaggle competition\n",
        "# name: Binary Classification with a Bank Churn Dataset\n",
        "# period: 02.Jan.2024 ~ 01.Feb.2024\n",
        "#\n",
        "#\n",
        "#"
      ],
      "metadata": {
        "id": "9uTYr89CnL_I"
      },
      "execution_count": null,
      "outputs": []
    },
    {
      "cell_type": "code",
      "execution_count": null,
      "metadata": {
        "id": "qwPdr4JblKjU"
      },
      "outputs": [],
      "source": [
        "# Import Libraries\n",
        "import pandas as pd\n",
        "import numpy as np\n",
        "import matplotlib.pyplot as plt\n",
        "import seaborn as sns\n",
        "import os"
      ]
    },
    {
      "cell_type": "code",
      "source": [
        "# Explore Dataset"
      ],
      "metadata": {
        "id": "PqCrMU-ZnRVF"
      },
      "execution_count": null,
      "outputs": []
    },
    {
      "cell_type": "code",
      "source": [
        "# colab\n",
        "use_colab = True\n",
        "assert use_colab in [True, False]\n",
        "\n",
        "# google drive\n",
        "from google.colab import drive\n",
        "drive.mount('/content/drive')"
      ],
      "metadata": {
        "id": "t-dHgMh7nGod"
      },
      "execution_count": null,
      "outputs": []
    },
    {
      "cell_type": "code",
      "source": [
        "path_to_file = \"/MyDrive/datas/\"\n",
        "\n",
        "test = pd.read_csv(path_to_file, 'bank_churn_test.csv')\n",
        "train = pd.read_csv(path_to_file, 'bank_churn_train.csv')\n",
        "\n",
        "print(train)"
      ],
      "metadata": {
        "id": "EvROavIfzETP"
      },
      "execution_count": null,
      "outputs": []
    },
    {
      "cell_type": "code",
      "source": [
        "# Dealing With Categorical Data"
      ],
      "metadata": {
        "id": "v6jB6c5-nULD"
      },
      "execution_count": null,
      "outputs": []
    },
    {
      "cell_type": "code",
      "source": [
        "# Data Visualization"
      ],
      "metadata": {
        "id": "Ip0XRg_PnVuV"
      },
      "execution_count": null,
      "outputs": []
    },
    {
      "cell_type": "code",
      "source": [
        "# Building Our Models"
      ],
      "metadata": {
        "id": "5Xy9XWJxnXNi"
      },
      "execution_count": null,
      "outputs": []
    },
    {
      "cell_type": "code",
      "source": [
        "# Submission"
      ],
      "metadata": {
        "id": "sr0YhHTvnYvI"
      },
      "execution_count": null,
      "outputs": []
    }
  ]
}