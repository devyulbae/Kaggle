{
  "nbformat": 4,
  "nbformat_minor": 0,
  "metadata": {
    "colab": {
      "private_outputs": true,
      "provenance": [],
      "authorship_tag": "ABX9TyOezlzG0e8BJYtFwg4vgRM1",
      "include_colab_link": true
    },
    "kernelspec": {
      "name": "python3",
      "display_name": "Python 3"
    },
    "language_info": {
      "name": "python"
    }
  },
  "cells": [
    {
      "cell_type": "markdown",
      "metadata": {
        "id": "view-in-github",
        "colab_type": "text"
      },
      "source": [
        "<a href=\"https://colab.research.google.com/github/devyulbae/Kaggle/blob/main/Kag_BinClass_for_Bank_Churn.ipynb\" target=\"_parent\"><img src=\"https://colab.research.google.com/assets/colab-badge.svg\" alt=\"Open In Colab\"/></a>"
      ]
    },
    {
      "cell_type": "code",
      "source": [
        "# readme\n",
        "# for Kaggle competition\n",
        "# name: Binary Classification with a Bank Churn Dataset\n",
        "# period: 2024.Jan\n",
        "#\n",
        "#\n",
        "#"
      ],
      "metadata": {
        "id": "9uTYr89CnL_I"
      },
      "execution_count": null,
      "outputs": []
    },
    {
      "cell_type": "code",
      "execution_count": null,
      "metadata": {
        "id": "qwPdr4JblKjU"
      },
      "outputs": [],
      "source": [
        "# Import Libraries\n",
        "import pandas as pd\n",
        "import numpy as np\n",
        "import matplotlib.pyplot as plt\n",
        "import seaborn as sns"
      ]
    },
    {
      "cell_type": "code",
      "source": [
        "# Explore Dataset"
      ],
      "metadata": {
        "id": "PqCrMU-ZnRVF"
      },
      "execution_count": null,
      "outputs": []
    },
    {
      "cell_type": "code",
      "source": [
        "# google drive\n",
        "from google.colab import drive\n",
        "drive.mount('/content/drive')"
      ],
      "metadata": {
        "id": "t-dHgMh7nGod"
      },
      "execution_count": null,
      "outputs": []
    },
    {
      "cell_type": "code",
      "source": [
        "# Dealing With Categorical Data"
      ],
      "metadata": {
        "id": "v6jB6c5-nULD"
      },
      "execution_count": null,
      "outputs": []
    },
    {
      "cell_type": "code",
      "source": [
        "# Data Visualization"
      ],
      "metadata": {
        "id": "Ip0XRg_PnVuV"
      },
      "execution_count": null,
      "outputs": []
    },
    {
      "cell_type": "code",
      "source": [
        "# Building Our Models"
      ],
      "metadata": {
        "id": "5Xy9XWJxnXNi"
      },
      "execution_count": null,
      "outputs": []
    },
    {
      "cell_type": "code",
      "source": [
        "# Submission"
      ],
      "metadata": {
        "id": "sr0YhHTvnYvI"
      },
      "execution_count": null,
      "outputs": []
    }
  ]
}